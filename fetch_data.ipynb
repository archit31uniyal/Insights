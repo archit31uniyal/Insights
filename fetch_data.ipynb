{
 "cells": [
  {
   "cell_type": "code",
   "execution_count": 9,
   "metadata": {},
   "outputs": [],
   "source": [
    "import requests\n",
    "import re\n",
    "from bs4 import BeautifulSoup\n",
    "from llmware.agents import LLMfx"
   ]
  },
  {
   "cell_type": "code",
   "execution_count": 2,
   "metadata": {},
   "outputs": [],
   "source": [
    "class Review:\n",
    "    def __init__(self, base_url, num_pages= 5, rating= [], date= [], text = []):\n",
    "        self.base_url = base_url\n",
    "        self.rating = rating\n",
    "        self.date = date\n",
    "        self.text = text\n",
    "        self.num_pages = num_pages\n",
    "    \n",
    "    def fetch_reviews(self):\n",
    "        url2 = self.base_url\n",
    "        start = 0\n",
    "        end = 10* self.num_pages\n",
    "\n",
    "        while start < end:\n",
    "            url = url2 + \"?start=\" + str(start)\n",
    "            start +=10\n",
    "            page = requests.get(url)\n",
    "            if page.status_code == 200:\n",
    "                soup = BeautifulSoup(page.text, 'html.parser')\n",
    "                try:\n",
    "                    reviews = soup.find(string='Recommended Reviews').find_parent('section')\n",
    "                    reviews = reviews.select('div[aria-label$=\"star rating\"]')\n",
    "                    for review in reviews:\n",
    "                        self.rating.append(float(re.findall('[\\d]+[.,\\d]+|[\\d]*[.][\\d]+|[\\d]+', review['aria-label'])[0]))\n",
    "                        self.date.append(review.find_next('span').text)\n",
    "                        self.text.append(review.find_next('span', lang=True).text)\n",
    "                except:\n",
    "                    print('No parent section')\n",
    "                    pass\n",
    "            else:\n",
    "                print('Page not found')\n",
    "                continue"
   ]
  },
  {
   "cell_type": "code",
   "execution_count": 3,
   "metadata": {},
   "outputs": [],
   "source": [
    "base_url = \"https://www.yelp.com/biz/tea-house-charlottesville?osq=Chinese\"\n",
    "revs = Review(base_url)\n",
    "revs.fetch_reviews()"
   ]
  },
  {
   "cell_type": "code",
   "execution_count": 4,
   "metadata": {},
   "outputs": [
    {
     "data": {
      "text/plain": [
       "[3.5,\n",
       " 1.0,\n",
       " 5.0,\n",
       " 5.0,\n",
       " 5.0,\n",
       " 5.0,\n",
       " 5.0,\n",
       " 5.0,\n",
       " 1.0,\n",
       " 1.0,\n",
       " 4.0,\n",
       " 5.0,\n",
       " 5.0,\n",
       " 3.5,\n",
       " 1.0,\n",
       " 5.0,\n",
       " 5.0,\n",
       " 5.0,\n",
       " 5.0,\n",
       " 5.0,\n",
       " 5.0,\n",
       " 1.0,\n",
       " 1.0,\n",
       " 4.0,\n",
       " 5.0,\n",
       " 5.0,\n",
       " 3.5,\n",
       " 1.0,\n",
       " 5.0,\n",
       " 5.0,\n",
       " 5.0,\n",
       " 5.0,\n",
       " 5.0,\n",
       " 5.0,\n",
       " 1.0,\n",
       " 1.0,\n",
       " 4.0,\n",
       " 5.0,\n",
       " 5.0,\n",
       " 3.5,\n",
       " 1.0,\n",
       " 5.0,\n",
       " 5.0,\n",
       " 5.0,\n",
       " 5.0,\n",
       " 5.0,\n",
       " 5.0,\n",
       " 1.0,\n",
       " 1.0,\n",
       " 4.0,\n",
       " 5.0,\n",
       " 5.0,\n",
       " 3.5,\n",
       " 1.0,\n",
       " 5.0,\n",
       " 5.0,\n",
       " 5.0,\n",
       " 5.0,\n",
       " 5.0,\n",
       " 5.0,\n",
       " 1.0,\n",
       " 1.0,\n",
       " 4.0,\n",
       " 5.0,\n",
       " 5.0]"
      ]
     },
     "execution_count": 4,
     "metadata": {},
     "output_type": "execute_result"
    }
   ],
   "source": [
    "revs.rating"
   ]
  },
  {
   "cell_type": "code",
   "execution_count": 5,
   "metadata": {},
   "outputs": [
    {
     "data": {
      "text/plain": [
       "['We love the Tea House. My husband and son love their sushi and sashimi. My eldest sons likes Gen Tso chicken.  I like Gen Tso Tofu and veg fried rice. I like the ginger salad dressing on their simple house salad. They are good people.',\n",
       " 'We love the Tea House. My husband and son love their sushi and sashimi. My eldest sons likes Gen Tso chicken.  I like Gen Tso Tofu and veg fried rice. I like the ginger salad dressing on their simple house salad. They are good people.',\n",
       " 'We love the Tea House. My husband and son love their sushi and sashimi. My eldest sons likes Gen Tso chicken.  I like Gen Tso Tofu and veg fried rice. I like the ginger salad dressing on their simple house salad. They are good people.',\n",
       " \"I frequent this wonderful restaurant and I am so glad to have them in Crozet of  America's Virginia! You can get a choice of Japanese and Chinese food at this establishment and both are freshly prepared. There is take out or dine-in options. I enjoy the sushi & Chinese dishes. Delish is the American Roll with shrimp tempura & spicy tuna! Yum! Yum! Yum! I would also like to acknowledge how very hard the owners and staff work & send my gratitude to them and hope they remain here and thrive!\",\n",
       " 'Always fresh and always tasty! Steamed dumplings are great! Love their shrimp tempura too!',\n",
       " 'Always consistently good Chinese food. Love the steamed dumplings and Triple Mongolian dinner.',\n",
       " 'Always great food and they have excellent sushi!  I was pleasantly surprised!  We love dining in and getting delivery.  Best Chinese food on this side of town.',\n",
       " \"Always great.  They have great sushi and we really enjoy all of their dishes.  The Hunan chicken is my favorite along with all of their sushi.  My husband and son really love their lo mein dishes and my daughter loves their sushi and egg drop soup...and fried rice. . We'll definitely be back!\",\n",
       " \"Would give zero stars. The guy that gave me my Togo food was the most rude person I've ever seen working in a restaurant. Messed up my order and it all tasted horrible. Overpriced and not worth it. DO NOT RECOMMEND!\",\n",
       " '0 CUSTOMER SERVICE! Never going back. The food is decent, but not decent enough for the prices they charge and definitely NOT worth the visit w/this service. The one star is quite frankly ALL because of the POOR customer service! The owner is some male who has 0 understanding of customer service and how to talk to people. Told me I was \"being annoying\" and \"wasting his time\" for asking questions about the menu options! Wtf!  It wasn\\'t even crowded and it was an afternoon on a Wednesday. I would\\'ve left right then and there but my significant other still wanted to give them a try so we did. The male who owns this restaurant continued to snark and be snippy with us the ENTIRE TIME. I eventually got fed up and asked him, \"is this how you treat all your customers? With an attitude like that!\" And he told me to \"shut up\" and walked right back to the kitchen where a woman resumed his position of handling with the customers up front. She was nice and actually knew what service was. Just warning everyone that the owner has a piss poor attitude and ignores the fact that you\\'re not only paying for the food but service as well!',\n",
       " \"General Tso's and Sesame chicken were both good. Customer service has a lot of room for improvement. If you order extra condiments make sure to check the bag before you leave.\",\n",
       " \"This is what you want in a hole in the wall restaurant, I think all the bad reviews about customer service are hilarious the foods great service is whatever, but why does it matter it's good food and cheap.\",\n",
       " \"Secret gem in Crozet. I go simple, bbq ribs and fried rice but the portions are huge and very tasty! Dude at the front door has the personality of a door stop but he's very nice and efficient. I'd rather have that with great food and reasonable prices vs the reverse.\",\n",
       " 'We love the Tea House. My husband and son love their sushi and sashimi. My eldest sons likes Gen Tso chicken.  I like Gen Tso Tofu and veg fried rice. I like the ginger salad dressing on their simple house salad. They are good people.',\n",
       " 'We love the Tea House. My husband and son love their sushi and sashimi. My eldest sons likes Gen Tso chicken.  I like Gen Tso Tofu and veg fried rice. I like the ginger salad dressing on their simple house salad. They are good people.',\n",
       " 'We love the Tea House. My husband and son love their sushi and sashimi. My eldest sons likes Gen Tso chicken.  I like Gen Tso Tofu and veg fried rice. I like the ginger salad dressing on their simple house salad. They are good people.',\n",
       " \"I frequent this wonderful restaurant and I am so glad to have them in Crozet of  America's Virginia! You can get a choice of Japanese and Chinese food at this establishment and both are freshly prepared. There is take out or dine-in options. I enjoy the sushi & Chinese dishes. Delish is the American Roll with shrimp tempura & spicy tuna! Yum! Yum! Yum! I would also like to acknowledge how very hard the owners and staff work & send my gratitude to them and hope they remain here and thrive!\",\n",
       " 'Always fresh and always tasty! Steamed dumplings are great! Love their shrimp tempura too!',\n",
       " 'Always consistently good Chinese food. Love the steamed dumplings and Triple Mongolian dinner.',\n",
       " 'Always great food and they have excellent sushi!  I was pleasantly surprised!  We love dining in and getting delivery.  Best Chinese food on this side of town.',\n",
       " \"Always great.  They have great sushi and we really enjoy all of their dishes.  The Hunan chicken is my favorite along with all of their sushi.  My husband and son really love their lo mein dishes and my daughter loves their sushi and egg drop soup...and fried rice. . We'll definitely be back!\",\n",
       " \"Would give zero stars. The guy that gave me my Togo food was the most rude person I've ever seen working in a restaurant. Messed up my order and it all tasted horrible. Overpriced and not worth it. DO NOT RECOMMEND!\",\n",
       " '0 CUSTOMER SERVICE! Never going back. The food is decent, but not decent enough for the prices they charge and definitely NOT worth the visit w/this service. The one star is quite frankly ALL because of the POOR customer service! The owner is some male who has 0 understanding of customer service and how to talk to people. Told me I was \"being annoying\" and \"wasting his time\" for asking questions about the menu options! Wtf!  It wasn\\'t even crowded and it was an afternoon on a Wednesday. I would\\'ve left right then and there but my significant other still wanted to give them a try so we did. The male who owns this restaurant continued to snark and be snippy with us the ENTIRE TIME. I eventually got fed up and asked him, \"is this how you treat all your customers? With an attitude like that!\" And he told me to \"shut up\" and walked right back to the kitchen where a woman resumed his position of handling with the customers up front. She was nice and actually knew what service was. Just warning everyone that the owner has a piss poor attitude and ignores the fact that you\\'re not only paying for the food but service as well!',\n",
       " \"General Tso's and Sesame chicken were both good. Customer service has a lot of room for improvement. If you order extra condiments make sure to check the bag before you leave.\",\n",
       " \"This is what you want in a hole in the wall restaurant, I think all the bad reviews about customer service are hilarious the foods great service is whatever, but why does it matter it's good food and cheap.\",\n",
       " \"Secret gem in Crozet. I go simple, bbq ribs and fried rice but the portions are huge and very tasty! Dude at the front door has the personality of a door stop but he's very nice and efficient. I'd rather have that with great food and reasonable prices vs the reverse.\",\n",
       " 'We love the Tea House. My husband and son love their sushi and sashimi. My eldest sons likes Gen Tso chicken.  I like Gen Tso Tofu and veg fried rice. I like the ginger salad dressing on their simple house salad. They are good people.',\n",
       " 'We love the Tea House. My husband and son love their sushi and sashimi. My eldest sons likes Gen Tso chicken.  I like Gen Tso Tofu and veg fried rice. I like the ginger salad dressing on their simple house salad. They are good people.',\n",
       " 'We love the Tea House. My husband and son love their sushi and sashimi. My eldest sons likes Gen Tso chicken.  I like Gen Tso Tofu and veg fried rice. I like the ginger salad dressing on their simple house salad. They are good people.',\n",
       " \"I frequent this wonderful restaurant and I am so glad to have them in Crozet of  America's Virginia! You can get a choice of Japanese and Chinese food at this establishment and both are freshly prepared. There is take out or dine-in options. I enjoy the sushi & Chinese dishes. Delish is the American Roll with shrimp tempura & spicy tuna! Yum! Yum! Yum! I would also like to acknowledge how very hard the owners and staff work & send my gratitude to them and hope they remain here and thrive!\",\n",
       " 'Always fresh and always tasty! Steamed dumplings are great! Love their shrimp tempura too!',\n",
       " 'Always consistently good Chinese food. Love the steamed dumplings and Triple Mongolian dinner.',\n",
       " 'Always great food and they have excellent sushi!  I was pleasantly surprised!  We love dining in and getting delivery.  Best Chinese food on this side of town.',\n",
       " \"Always great.  They have great sushi and we really enjoy all of their dishes.  The Hunan chicken is my favorite along with all of their sushi.  My husband and son really love their lo mein dishes and my daughter loves their sushi and egg drop soup...and fried rice. . We'll definitely be back!\",\n",
       " \"Would give zero stars. The guy that gave me my Togo food was the most rude person I've ever seen working in a restaurant. Messed up my order and it all tasted horrible. Overpriced and not worth it. DO NOT RECOMMEND!\",\n",
       " '0 CUSTOMER SERVICE! Never going back. The food is decent, but not decent enough for the prices they charge and definitely NOT worth the visit w/this service. The one star is quite frankly ALL because of the POOR customer service! The owner is some male who has 0 understanding of customer service and how to talk to people. Told me I was \"being annoying\" and \"wasting his time\" for asking questions about the menu options! Wtf!  It wasn\\'t even crowded and it was an afternoon on a Wednesday. I would\\'ve left right then and there but my significant other still wanted to give them a try so we did. The male who owns this restaurant continued to snark and be snippy with us the ENTIRE TIME. I eventually got fed up and asked him, \"is this how you treat all your customers? With an attitude like that!\" And he told me to \"shut up\" and walked right back to the kitchen where a woman resumed his position of handling with the customers up front. She was nice and actually knew what service was. Just warning everyone that the owner has a piss poor attitude and ignores the fact that you\\'re not only paying for the food but service as well!',\n",
       " \"General Tso's and Sesame chicken were both good. Customer service has a lot of room for improvement. If you order extra condiments make sure to check the bag before you leave.\",\n",
       " \"This is what you want in a hole in the wall restaurant, I think all the bad reviews about customer service are hilarious the foods great service is whatever, but why does it matter it's good food and cheap.\",\n",
       " \"Secret gem in Crozet. I go simple, bbq ribs and fried rice but the portions are huge and very tasty! Dude at the front door has the personality of a door stop but he's very nice and efficient. I'd rather have that with great food and reasonable prices vs the reverse.\",\n",
       " 'We love the Tea House. My husband and son love their sushi and sashimi. My eldest sons likes Gen Tso chicken.  I like Gen Tso Tofu and veg fried rice. I like the ginger salad dressing on their simple house salad. They are good people.',\n",
       " 'We love the Tea House. My husband and son love their sushi and sashimi. My eldest sons likes Gen Tso chicken.  I like Gen Tso Tofu and veg fried rice. I like the ginger salad dressing on their simple house salad. They are good people.',\n",
       " 'We love the Tea House. My husband and son love their sushi and sashimi. My eldest sons likes Gen Tso chicken.  I like Gen Tso Tofu and veg fried rice. I like the ginger salad dressing on their simple house salad. They are good people.',\n",
       " \"I frequent this wonderful restaurant and I am so glad to have them in Crozet of  America's Virginia! You can get a choice of Japanese and Chinese food at this establishment and both are freshly prepared. There is take out or dine-in options. I enjoy the sushi & Chinese dishes. Delish is the American Roll with shrimp tempura & spicy tuna! Yum! Yum! Yum! I would also like to acknowledge how very hard the owners and staff work & send my gratitude to them and hope they remain here and thrive!\",\n",
       " 'Always fresh and always tasty! Steamed dumplings are great! Love their shrimp tempura too!',\n",
       " 'Always consistently good Chinese food. Love the steamed dumplings and Triple Mongolian dinner.',\n",
       " 'Always great food and they have excellent sushi!  I was pleasantly surprised!  We love dining in and getting delivery.  Best Chinese food on this side of town.',\n",
       " \"Always great.  They have great sushi and we really enjoy all of their dishes.  The Hunan chicken is my favorite along with all of their sushi.  My husband and son really love their lo mein dishes and my daughter loves their sushi and egg drop soup...and fried rice. . We'll definitely be back!\",\n",
       " \"Would give zero stars. The guy that gave me my Togo food was the most rude person I've ever seen working in a restaurant. Messed up my order and it all tasted horrible. Overpriced and not worth it. DO NOT RECOMMEND!\",\n",
       " '0 CUSTOMER SERVICE! Never going back. The food is decent, but not decent enough for the prices they charge and definitely NOT worth the visit w/this service. The one star is quite frankly ALL because of the POOR customer service! The owner is some male who has 0 understanding of customer service and how to talk to people. Told me I was \"being annoying\" and \"wasting his time\" for asking questions about the menu options! Wtf!  It wasn\\'t even crowded and it was an afternoon on a Wednesday. I would\\'ve left right then and there but my significant other still wanted to give them a try so we did. The male who owns this restaurant continued to snark and be snippy with us the ENTIRE TIME. I eventually got fed up and asked him, \"is this how you treat all your customers? With an attitude like that!\" And he told me to \"shut up\" and walked right back to the kitchen where a woman resumed his position of handling with the customers up front. She was nice and actually knew what service was. Just warning everyone that the owner has a piss poor attitude and ignores the fact that you\\'re not only paying for the food but service as well!',\n",
       " \"General Tso's and Sesame chicken were both good. Customer service has a lot of room for improvement. If you order extra condiments make sure to check the bag before you leave.\",\n",
       " \"This is what you want in a hole in the wall restaurant, I think all the bad reviews about customer service are hilarious the foods great service is whatever, but why does it matter it's good food and cheap.\",\n",
       " \"Secret gem in Crozet. I go simple, bbq ribs and fried rice but the portions are huge and very tasty! Dude at the front door has the personality of a door stop but he's very nice and efficient. I'd rather have that with great food and reasonable prices vs the reverse.\",\n",
       " 'We love the Tea House. My husband and son love their sushi and sashimi. My eldest sons likes Gen Tso chicken.  I like Gen Tso Tofu and veg fried rice. I like the ginger salad dressing on their simple house salad. They are good people.',\n",
       " 'We love the Tea House. My husband and son love their sushi and sashimi. My eldest sons likes Gen Tso chicken.  I like Gen Tso Tofu and veg fried rice. I like the ginger salad dressing on their simple house salad. They are good people.',\n",
       " 'We love the Tea House. My husband and son love their sushi and sashimi. My eldest sons likes Gen Tso chicken.  I like Gen Tso Tofu and veg fried rice. I like the ginger salad dressing on their simple house salad. They are good people.',\n",
       " \"I frequent this wonderful restaurant and I am so glad to have them in Crozet of  America's Virginia! You can get a choice of Japanese and Chinese food at this establishment and both are freshly prepared. There is take out or dine-in options. I enjoy the sushi & Chinese dishes. Delish is the American Roll with shrimp tempura & spicy tuna! Yum! Yum! Yum! I would also like to acknowledge how very hard the owners and staff work & send my gratitude to them and hope they remain here and thrive!\",\n",
       " 'Always fresh and always tasty! Steamed dumplings are great! Love their shrimp tempura too!',\n",
       " 'Always consistently good Chinese food. Love the steamed dumplings and Triple Mongolian dinner.',\n",
       " 'Always great food and they have excellent sushi!  I was pleasantly surprised!  We love dining in and getting delivery.  Best Chinese food on this side of town.',\n",
       " \"Always great.  They have great sushi and we really enjoy all of their dishes.  The Hunan chicken is my favorite along with all of their sushi.  My husband and son really love their lo mein dishes and my daughter loves their sushi and egg drop soup...and fried rice. . We'll definitely be back!\",\n",
       " \"Would give zero stars. The guy that gave me my Togo food was the most rude person I've ever seen working in a restaurant. Messed up my order and it all tasted horrible. Overpriced and not worth it. DO NOT RECOMMEND!\",\n",
       " '0 CUSTOMER SERVICE! Never going back. The food is decent, but not decent enough for the prices they charge and definitely NOT worth the visit w/this service. The one star is quite frankly ALL because of the POOR customer service! The owner is some male who has 0 understanding of customer service and how to talk to people. Told me I was \"being annoying\" and \"wasting his time\" for asking questions about the menu options! Wtf!  It wasn\\'t even crowded and it was an afternoon on a Wednesday. I would\\'ve left right then and there but my significant other still wanted to give them a try so we did. The male who owns this restaurant continued to snark and be snippy with us the ENTIRE TIME. I eventually got fed up and asked him, \"is this how you treat all your customers? With an attitude like that!\" And he told me to \"shut up\" and walked right back to the kitchen where a woman resumed his position of handling with the customers up front. She was nice and actually knew what service was. Just warning everyone that the owner has a piss poor attitude and ignores the fact that you\\'re not only paying for the food but service as well!',\n",
       " \"General Tso's and Sesame chicken were both good. Customer service has a lot of room for improvement. If you order extra condiments make sure to check the bag before you leave.\",\n",
       " \"This is what you want in a hole in the wall restaurant, I think all the bad reviews about customer service are hilarious the foods great service is whatever, but why does it matter it's good food and cheap.\",\n",
       " \"Secret gem in Crozet. I go simple, bbq ribs and fried rice but the portions are huge and very tasty! Dude at the front door has the personality of a door stop but he's very nice and efficient. I'd rather have that with great food and reasonable prices vs the reverse.\"]"
      ]
     },
     "execution_count": 5,
     "metadata": {},
     "output_type": "execute_result"
    }
   ],
   "source": [
    "revs.text"
   ]
  },
  {
   "cell_type": "code",
   "execution_count": 10,
   "metadata": {},
   "outputs": [
    {
     "name": "stderr",
     "output_type": "stream",
     "text": [
      "\u001b[37mINFO: Agent - Setting up LLMWare Workspace.\u001b[39m\n",
      "\u001b[37mWARNING: ModelCatalog - load_model - fetching model - slim-sentiment-tool - from remote repository using pull_snapshot_from_hf - this may take a couple of minutes the first time.\u001b[39m\n",
      "/Users/archit/miniconda3/envs/rag/lib/python3.10/site-packages/huggingface_hub/file_download.py:1194: UserWarning: `local_dir_use_symlinks` parameter is deprecated and will be ignored. The process to download files to a local folder has been updated and do not rely on symlinks anymore. You only need to pass a destination folder as`local_dir`.\n",
      "For more details, check out https://huggingface.co/docs/huggingface_hub/main/en/guides/download#download-files-to-local-folder.\n",
      "  warnings.warn(\n"
     ]
    },
    {
     "name": "stdout",
     "output_type": "stream",
     "text": [
      "update: Launching LLMfx process\n",
      "step - \t1 - \tcreating object - ready to start processing.\n",
      "step - \t2 - \tloading tool - sentiment\n"
     ]
    },
    {
     "name": "stderr",
     "output_type": "stream",
     "text": [
      "Fetching 4 files:  75%|███████▌  | 3/4 [12:03<04:01, 241.23s/it]\n"
     ]
    },
    {
     "ename": "LLMWareException",
     "evalue": "Models - load_model - pull_snapshot_from_hf - llmware/slim-sentiment-tool - Something has gone wrong in the download process.   Please try again.",
     "output_type": "error",
     "traceback": [
      "\u001b[0;31m---------------------------------------------------------------------------\u001b[0m",
      "\u001b[0;31mKeyboardInterrupt\u001b[0m                         Traceback (most recent call last)",
      "File \u001b[0;32m~/miniconda3/envs/rag/lib/python3.10/site-packages/llmware/models.py:365\u001b[0m, in \u001b[0;36mpull_snapshot_from_hf\u001b[0;34m(model_card, local_model_repo_path, api_key, **kwargs)\u001b[0m\n\u001b[1;32m    364\u001b[0m \u001b[38;5;28;01mtry\u001b[39;00m:\n\u001b[0;32m--> 365\u001b[0m     snapshot \u001b[38;5;241m=\u001b[39m \u001b[43msnapshot_download\u001b[49m\u001b[43m(\u001b[49m\u001b[43mrepo_name\u001b[49m\u001b[43m,\u001b[49m\u001b[43m \u001b[49m\u001b[43mlocal_dir\u001b[49m\u001b[38;5;241;43m=\u001b[39;49m\u001b[43mlocal_model_repo_path\u001b[49m\u001b[43m,\u001b[49m\u001b[43m \u001b[49m\u001b[43mtoken\u001b[49m\u001b[38;5;241;43m=\u001b[39;49m\u001b[43mapi_key\u001b[49m\u001b[43m,\u001b[49m\n\u001b[1;32m    366\u001b[0m \u001b[43m                                 \u001b[49m\u001b[43mlocal_dir_use_symlinks\u001b[49m\u001b[38;5;241;43m=\u001b[39;49m\u001b[38;5;28;43;01mFalse\u001b[39;49;00m\u001b[43m)\u001b[49m\n\u001b[1;32m    367\u001b[0m \u001b[38;5;28;01mexcept\u001b[39;00m:\n",
      "File \u001b[0;32m~/miniconda3/envs/rag/lib/python3.10/site-packages/huggingface_hub/utils/_validators.py:114\u001b[0m, in \u001b[0;36mvalidate_hf_hub_args.<locals>._inner_fn\u001b[0;34m(*args, **kwargs)\u001b[0m\n\u001b[1;32m    112\u001b[0m     kwargs \u001b[38;5;241m=\u001b[39m smoothly_deprecate_use_auth_token(fn_name\u001b[38;5;241m=\u001b[39mfn\u001b[38;5;241m.\u001b[39m\u001b[38;5;18m__name__\u001b[39m, has_token\u001b[38;5;241m=\u001b[39mhas_token, kwargs\u001b[38;5;241m=\u001b[39mkwargs)\n\u001b[0;32m--> 114\u001b[0m \u001b[38;5;28;01mreturn\u001b[39;00m \u001b[43mfn\u001b[49m\u001b[43m(\u001b[49m\u001b[38;5;241;43m*\u001b[39;49m\u001b[43margs\u001b[49m\u001b[43m,\u001b[49m\u001b[43m \u001b[49m\u001b[38;5;241;43m*\u001b[39;49m\u001b[38;5;241;43m*\u001b[39;49m\u001b[43mkwargs\u001b[49m\u001b[43m)\u001b[49m\n",
      "File \u001b[0;32m~/miniconda3/envs/rag/lib/python3.10/site-packages/huggingface_hub/_snapshot_download.py:294\u001b[0m, in \u001b[0;36msnapshot_download\u001b[0;34m(repo_id, repo_type, revision, cache_dir, local_dir, library_name, library_version, user_agent, proxies, etag_timeout, force_download, token, local_files_only, allow_patterns, ignore_patterns, max_workers, tqdm_class, headers, endpoint, local_dir_use_symlinks, resume_download)\u001b[0m\n\u001b[1;32m    293\u001b[0m \u001b[38;5;28;01melse\u001b[39;00m:\n\u001b[0;32m--> 294\u001b[0m     \u001b[43mthread_map\u001b[49m\u001b[43m(\u001b[49m\n\u001b[1;32m    295\u001b[0m \u001b[43m        \u001b[49m\u001b[43m_inner_hf_hub_download\u001b[49m\u001b[43m,\u001b[49m\n\u001b[1;32m    296\u001b[0m \u001b[43m        \u001b[49m\u001b[43mfiltered_repo_files\u001b[49m\u001b[43m,\u001b[49m\n\u001b[1;32m    297\u001b[0m \u001b[43m        \u001b[49m\u001b[43mdesc\u001b[49m\u001b[38;5;241;43m=\u001b[39;49m\u001b[38;5;124;43mf\u001b[39;49m\u001b[38;5;124;43m\"\u001b[39;49m\u001b[38;5;124;43mFetching \u001b[39;49m\u001b[38;5;132;43;01m{\u001b[39;49;00m\u001b[38;5;28;43mlen\u001b[39;49m\u001b[43m(\u001b[49m\u001b[43mfiltered_repo_files\u001b[49m\u001b[43m)\u001b[49m\u001b[38;5;132;43;01m}\u001b[39;49;00m\u001b[38;5;124;43m files\u001b[39;49m\u001b[38;5;124;43m\"\u001b[39;49m\u001b[43m,\u001b[49m\n\u001b[1;32m    298\u001b[0m \u001b[43m        \u001b[49m\u001b[43mmax_workers\u001b[49m\u001b[38;5;241;43m=\u001b[39;49m\u001b[43mmax_workers\u001b[49m\u001b[43m,\u001b[49m\n\u001b[1;32m    299\u001b[0m \u001b[43m        \u001b[49m\u001b[38;5;66;43;03m# User can use its own tqdm class or the default one from `huggingface_hub.utils`\u001b[39;49;00m\n\u001b[1;32m    300\u001b[0m \u001b[43m        \u001b[49m\u001b[43mtqdm_class\u001b[49m\u001b[38;5;241;43m=\u001b[39;49m\u001b[43mtqdm_class\u001b[49m\u001b[43m \u001b[49m\u001b[38;5;129;43;01mor\u001b[39;49;00m\u001b[43m \u001b[49m\u001b[43mhf_tqdm\u001b[49m\u001b[43m,\u001b[49m\n\u001b[1;32m    301\u001b[0m \u001b[43m    \u001b[49m\u001b[43m)\u001b[49m\n\u001b[1;32m    303\u001b[0m \u001b[38;5;28;01mif\u001b[39;00m local_dir \u001b[38;5;129;01mis\u001b[39;00m \u001b[38;5;129;01mnot\u001b[39;00m \u001b[38;5;28;01mNone\u001b[39;00m:\n",
      "File \u001b[0;32m~/miniconda3/envs/rag/lib/python3.10/site-packages/tqdm/contrib/concurrent.py:69\u001b[0m, in \u001b[0;36mthread_map\u001b[0;34m(fn, *iterables, **tqdm_kwargs)\u001b[0m\n\u001b[1;32m     68\u001b[0m \u001b[38;5;28;01mfrom\u001b[39;00m \u001b[38;5;21;01mconcurrent\u001b[39;00m\u001b[38;5;21;01m.\u001b[39;00m\u001b[38;5;21;01mfutures\u001b[39;00m \u001b[38;5;28;01mimport\u001b[39;00m ThreadPoolExecutor\n\u001b[0;32m---> 69\u001b[0m \u001b[38;5;28;01mreturn\u001b[39;00m \u001b[43m_executor_map\u001b[49m\u001b[43m(\u001b[49m\u001b[43mThreadPoolExecutor\u001b[49m\u001b[43m,\u001b[49m\u001b[43m \u001b[49m\u001b[43mfn\u001b[49m\u001b[43m,\u001b[49m\u001b[43m \u001b[49m\u001b[38;5;241;43m*\u001b[39;49m\u001b[43miterables\u001b[49m\u001b[43m,\u001b[49m\u001b[43m \u001b[49m\u001b[38;5;241;43m*\u001b[39;49m\u001b[38;5;241;43m*\u001b[39;49m\u001b[43mtqdm_kwargs\u001b[49m\u001b[43m)\u001b[49m\n",
      "File \u001b[0;32m~/miniconda3/envs/rag/lib/python3.10/site-packages/tqdm/contrib/concurrent.py:51\u001b[0m, in \u001b[0;36m_executor_map\u001b[0;34m(PoolExecutor, fn, *iterables, **tqdm_kwargs)\u001b[0m\n\u001b[1;32m     49\u001b[0m \u001b[38;5;28;01mwith\u001b[39;00m PoolExecutor(max_workers\u001b[38;5;241m=\u001b[39mmax_workers, initializer\u001b[38;5;241m=\u001b[39mtqdm_class\u001b[38;5;241m.\u001b[39mset_lock,\n\u001b[1;32m     50\u001b[0m                   initargs\u001b[38;5;241m=\u001b[39m(lk,)) \u001b[38;5;28;01mas\u001b[39;00m ex:\n\u001b[0;32m---> 51\u001b[0m     \u001b[38;5;28;01mreturn\u001b[39;00m \u001b[38;5;28;43mlist\u001b[39;49m\u001b[43m(\u001b[49m\u001b[43mtqdm_class\u001b[49m\u001b[43m(\u001b[49m\u001b[43mex\u001b[49m\u001b[38;5;241;43m.\u001b[39;49m\u001b[43mmap\u001b[49m\u001b[43m(\u001b[49m\u001b[43mfn\u001b[49m\u001b[43m,\u001b[49m\u001b[43m \u001b[49m\u001b[38;5;241;43m*\u001b[39;49m\u001b[43miterables\u001b[49m\u001b[43m,\u001b[49m\u001b[43m \u001b[49m\u001b[43mchunksize\u001b[49m\u001b[38;5;241;43m=\u001b[39;49m\u001b[43mchunksize\u001b[49m\u001b[43m)\u001b[49m\u001b[43m,\u001b[49m\u001b[43m \u001b[49m\u001b[38;5;241;43m*\u001b[39;49m\u001b[38;5;241;43m*\u001b[39;49m\u001b[43mkwargs\u001b[49m\u001b[43m)\u001b[49m\u001b[43m)\u001b[49m\n",
      "File \u001b[0;32m~/miniconda3/envs/rag/lib/python3.10/site-packages/tqdm/std.py:1181\u001b[0m, in \u001b[0;36mtqdm.__iter__\u001b[0;34m(self)\u001b[0m\n\u001b[1;32m   1180\u001b[0m \u001b[38;5;28;01mtry\u001b[39;00m:\n\u001b[0;32m-> 1181\u001b[0m     \u001b[38;5;28;01mfor\u001b[39;00m obj \u001b[38;5;129;01min\u001b[39;00m iterable:\n\u001b[1;32m   1182\u001b[0m         \u001b[38;5;28;01myield\u001b[39;00m obj\n",
      "File \u001b[0;32m~/miniconda3/envs/rag/lib/python3.10/concurrent/futures/_base.py:621\u001b[0m, in \u001b[0;36mExecutor.map.<locals>.result_iterator\u001b[0;34m()\u001b[0m\n\u001b[1;32m    620\u001b[0m \u001b[38;5;28;01mif\u001b[39;00m timeout \u001b[38;5;129;01mis\u001b[39;00m \u001b[38;5;28;01mNone\u001b[39;00m:\n\u001b[0;32m--> 621\u001b[0m     \u001b[38;5;28;01myield\u001b[39;00m \u001b[43m_result_or_cancel\u001b[49m\u001b[43m(\u001b[49m\u001b[43mfs\u001b[49m\u001b[38;5;241;43m.\u001b[39;49m\u001b[43mpop\u001b[49m\u001b[43m(\u001b[49m\u001b[43m)\u001b[49m\u001b[43m)\u001b[49m\n\u001b[1;32m    622\u001b[0m \u001b[38;5;28;01melse\u001b[39;00m:\n",
      "File \u001b[0;32m~/miniconda3/envs/rag/lib/python3.10/concurrent/futures/_base.py:319\u001b[0m, in \u001b[0;36m_result_or_cancel\u001b[0;34m(***failed resolving arguments***)\u001b[0m\n\u001b[1;32m    318\u001b[0m \u001b[38;5;28;01mtry\u001b[39;00m:\n\u001b[0;32m--> 319\u001b[0m     \u001b[38;5;28;01mreturn\u001b[39;00m \u001b[43mfut\u001b[49m\u001b[38;5;241;43m.\u001b[39;49m\u001b[43mresult\u001b[49m\u001b[43m(\u001b[49m\u001b[43mtimeout\u001b[49m\u001b[43m)\u001b[49m\n\u001b[1;32m    320\u001b[0m \u001b[38;5;28;01mfinally\u001b[39;00m:\n",
      "File \u001b[0;32m~/miniconda3/envs/rag/lib/python3.10/concurrent/futures/_base.py:453\u001b[0m, in \u001b[0;36mFuture.result\u001b[0;34m(self, timeout)\u001b[0m\n\u001b[1;32m    451\u001b[0m     \u001b[38;5;28;01mreturn\u001b[39;00m \u001b[38;5;28mself\u001b[39m\u001b[38;5;241m.\u001b[39m__get_result()\n\u001b[0;32m--> 453\u001b[0m \u001b[38;5;28;43mself\u001b[39;49m\u001b[38;5;241;43m.\u001b[39;49m\u001b[43m_condition\u001b[49m\u001b[38;5;241;43m.\u001b[39;49m\u001b[43mwait\u001b[49m\u001b[43m(\u001b[49m\u001b[43mtimeout\u001b[49m\u001b[43m)\u001b[49m\n\u001b[1;32m    455\u001b[0m \u001b[38;5;28;01mif\u001b[39;00m \u001b[38;5;28mself\u001b[39m\u001b[38;5;241m.\u001b[39m_state \u001b[38;5;129;01min\u001b[39;00m [CANCELLED, CANCELLED_AND_NOTIFIED]:\n",
      "File \u001b[0;32m~/miniconda3/envs/rag/lib/python3.10/threading.py:320\u001b[0m, in \u001b[0;36mCondition.wait\u001b[0;34m(self, timeout)\u001b[0m\n\u001b[1;32m    319\u001b[0m \u001b[38;5;28;01mif\u001b[39;00m timeout \u001b[38;5;129;01mis\u001b[39;00m \u001b[38;5;28;01mNone\u001b[39;00m:\n\u001b[0;32m--> 320\u001b[0m     \u001b[43mwaiter\u001b[49m\u001b[38;5;241;43m.\u001b[39;49m\u001b[43macquire\u001b[49m\u001b[43m(\u001b[49m\u001b[43m)\u001b[49m\n\u001b[1;32m    321\u001b[0m     gotit \u001b[38;5;241m=\u001b[39m \u001b[38;5;28;01mTrue\u001b[39;00m\n",
      "\u001b[0;31mKeyboardInterrupt\u001b[0m: ",
      "\nDuring handling of the above exception, another exception occurred:\n",
      "\u001b[0;31mLLMWareException\u001b[0m                          Traceback (most recent call last)",
      "Cell \u001b[0;32mIn[10], line 5\u001b[0m\n\u001b[1;32m      2\u001b[0m text \u001b[38;5;241m=\u001b[39m \u001b[38;5;124m\"\u001b[39m\u001b[38;5;124mRecommend the best dish in this restraurant.\u001b[39m\u001b[38;5;124m\"\u001b[39m\n\u001b[1;32m      4\u001b[0m agent \u001b[38;5;241m=\u001b[39m LLMfx(verbose\u001b[38;5;241m=\u001b[39m\u001b[38;5;28;01mTrue\u001b[39;00m)\n\u001b[0;32m----> 5\u001b[0m \u001b[43magent\u001b[49m\u001b[38;5;241;43m.\u001b[39;49m\u001b[43mload_tool\u001b[49m\u001b[43m(\u001b[49m\u001b[38;5;124;43m\"\u001b[39;49m\u001b[38;5;124;43msentiment\u001b[39;49m\u001b[38;5;124;43m\"\u001b[39;49m\u001b[43m)\u001b[49m\n\u001b[1;32m      6\u001b[0m sentiment \u001b[38;5;241m=\u001b[39m agent\u001b[38;5;241m.\u001b[39msentiment(text)\n",
      "File \u001b[0;32m~/miniconda3/envs/rag/lib/python3.10/site-packages/llmware/agents.py:453\u001b[0m, in \u001b[0;36mLLMfx.load_tool\u001b[0;34m(self, tool_type, use_gpu, sample, get_logits, max_output, temperature)\u001b[0m\n\u001b[1;32m    449\u001b[0m journal_update \u001b[38;5;241m=\u001b[39m \u001b[38;5;124mf\u001b[39m\u001b[38;5;124m\"\u001b[39m\u001b[38;5;124mloading tool - \u001b[39m\u001b[38;5;132;01m{\u001b[39;00mtool_type\u001b[38;5;132;01m}\u001b[39;00m\u001b[38;5;124m\"\u001b[39m\n\u001b[1;32m    450\u001b[0m \u001b[38;5;28mself\u001b[39m\u001b[38;5;241m.\u001b[39mwrite_to_journal(journal_update)\n\u001b[1;32m    452\u001b[0m \u001b[38;5;28msetattr\u001b[39m(\u001b[38;5;28mself\u001b[39m, tool_type \u001b[38;5;241m+\u001b[39m \u001b[38;5;124m\"\u001b[39m\u001b[38;5;124m_model\u001b[39m\u001b[38;5;124m\"\u001b[39m,\n\u001b[0;32m--> 453\u001b[0m         \u001b[43mModelCatalog\u001b[49m\u001b[43m(\u001b[49m\u001b[43m)\u001b[49m\u001b[38;5;241;43m.\u001b[39;49m\u001b[43mload_model\u001b[49m\u001b[43m(\u001b[49m\u001b[38;5;28;43mself\u001b[39;49m\u001b[38;5;241;43m.\u001b[39;49m\u001b[43m_default_tool_map\u001b[49m\u001b[43m[\u001b[49m\u001b[43mtool_type\u001b[49m\u001b[43m]\u001b[49m\u001b[43m,\u001b[49m\u001b[43mapi_key\u001b[49m\u001b[38;5;241;43m=\u001b[39;49m\u001b[38;5;28;43mself\u001b[39;49m\u001b[38;5;241;43m.\u001b[39;49m\u001b[43mapi_key\u001b[49m\u001b[43m,\u001b[49m\n\u001b[1;32m    454\u001b[0m \u001b[43m                                  \u001b[49m\u001b[43msample\u001b[49m\u001b[38;5;241;43m=\u001b[39;49m\u001b[43msample\u001b[49m\u001b[43m,\u001b[49m\u001b[43muse_gpu\u001b[49m\u001b[38;5;241;43m=\u001b[39;49m\u001b[43muse_gpu\u001b[49m\u001b[43m,\u001b[49m\u001b[43mget_logits\u001b[49m\u001b[38;5;241;43m=\u001b[39;49m\u001b[43mget_logits\u001b[49m\u001b[43m,\u001b[49m\u001b[43mmax_output\u001b[49m\u001b[38;5;241;43m=\u001b[39;49m\u001b[43mmax_output\u001b[49m\u001b[43m,\u001b[49m\n\u001b[1;32m    455\u001b[0m \u001b[43m                                  \u001b[49m\u001b[43mtemperature\u001b[49m\u001b[38;5;241;43m=\u001b[39;49m\u001b[43mtemperature\u001b[49m\u001b[43m)\u001b[49m)\n\u001b[1;32m    457\u001b[0m model \u001b[38;5;241m=\u001b[39m \u001b[38;5;28mgetattr\u001b[39m(\u001b[38;5;28mself\u001b[39m, tool_type \u001b[38;5;241m+\u001b[39m \u001b[38;5;124m\"\u001b[39m\u001b[38;5;124m_model\u001b[39m\u001b[38;5;124m\"\u001b[39m)\n\u001b[1;32m    459\u001b[0m \u001b[38;5;28;01mif\u001b[39;00m tool_type \u001b[38;5;129;01mnot\u001b[39;00m \u001b[38;5;129;01min\u001b[39;00m \u001b[38;5;28mself\u001b[39m\u001b[38;5;241m.\u001b[39mtools_deployed:\n",
      "File \u001b[0;32m~/miniconda3/envs/rag/lib/python3.10/site-packages/llmware/models.py:921\u001b[0m, in \u001b[0;36mModelCatalog.load_model\u001b[0;34m(self, selected_model, api_key, use_gpu, sample, get_logits, max_output, temperature, force_reload, api_endpoint, custom_loader, **kwargs)\u001b[0m\n\u001b[1;32m    917\u001b[0m \u001b[38;5;66;03m# step 3- if physical model, then need to locate, validate, potentially fetch and then load\u001b[39;00m\n\u001b[1;32m    919\u001b[0m \u001b[38;5;28;01mif\u001b[39;00m model_card[\u001b[38;5;124m\"\u001b[39m\u001b[38;5;124mmodel_location\u001b[39m\u001b[38;5;124m\"\u001b[39m] \u001b[38;5;241m==\u001b[39m \u001b[38;5;124m\"\u001b[39m\u001b[38;5;124mllmware_repo\u001b[39m\u001b[38;5;124m\"\u001b[39m \u001b[38;5;129;01mand\u001b[39;00m \u001b[38;5;129;01mnot\u001b[39;00m \u001b[38;5;28mself\u001b[39m\u001b[38;5;241m.\u001b[39mapi_endpoint:\n\u001b[0;32m--> 921\u001b[0m     loading_directions \u001b[38;5;241m=\u001b[39m \u001b[38;5;28;43mself\u001b[39;49m\u001b[38;5;241;43m.\u001b[39;49m\u001b[43mprepare_local_model\u001b[49m\u001b[43m(\u001b[49m\u001b[43mmodel_card\u001b[49m\u001b[43m,\u001b[49m\n\u001b[1;32m    922\u001b[0m \u001b[43m                                                  \u001b[49m\u001b[43mcustom_loader\u001b[49m\u001b[38;5;241;43m=\u001b[39;49m\u001b[38;5;28;43mself\u001b[39;49m\u001b[38;5;241;43m.\u001b[39;49m\u001b[43mcustom_loader\u001b[49m\u001b[43m,\u001b[49m\n\u001b[1;32m    923\u001b[0m \u001b[43m                                                  \u001b[49m\u001b[43mapi_key\u001b[49m\u001b[38;5;241;43m=\u001b[39;49m\u001b[38;5;28;43mself\u001b[39;49m\u001b[38;5;241;43m.\u001b[39;49m\u001b[43mapi_key\u001b[49m\u001b[43m,\u001b[49m\n\u001b[1;32m    924\u001b[0m \u001b[43m                                                  \u001b[49m\u001b[38;5;241;43m*\u001b[39;49m\u001b[38;5;241;43m*\u001b[39;49m\u001b[43mkwargs\u001b[49m\u001b[43m)\u001b[49m\n\u001b[1;32m    926\u001b[0m     my_model \u001b[38;5;241m=\u001b[39m my_model\u001b[38;5;241m.\u001b[39mload_model_for_inference(loading_directions, model_card\u001b[38;5;241m=\u001b[39mmodel_card, \u001b[38;5;241m*\u001b[39m\u001b[38;5;241m*\u001b[39mkwargs)\n\u001b[1;32m    928\u001b[0m \u001b[38;5;28;01melse\u001b[39;00m:\n\u001b[1;32m    929\u001b[0m     \u001b[38;5;66;03m# if api_key passed, save as environ variable\u001b[39;00m\n\u001b[1;32m    930\u001b[0m     \u001b[38;5;66;03m# TODO - look at this\u001b[39;00m\n",
      "File \u001b[0;32m~/miniconda3/envs/rag/lib/python3.10/site-packages/llmware/models.py:1025\u001b[0m, in \u001b[0;36mModelCatalog.prepare_local_model\u001b[0;34m(self, model_card, custom_loader, api_key, **kwargs)\u001b[0m\n\u001b[1;32m   1019\u001b[0m logger\u001b[38;5;241m.\u001b[39mwarning(\u001b[38;5;124mf\u001b[39m\u001b[38;5;124m\"\u001b[39m\u001b[38;5;124mModelCatalog - load_model - fetching model - \u001b[39m\u001b[38;5;132;01m{\u001b[39;00mmodel_card[\u001b[38;5;124m'\u001b[39m\u001b[38;5;124mmodel_name\u001b[39m\u001b[38;5;124m'\u001b[39m]\u001b[38;5;132;01m}\u001b[39;00m\u001b[38;5;124m - \u001b[39m\u001b[38;5;124m\"\u001b[39m\n\u001b[1;32m   1020\u001b[0m                \u001b[38;5;124mf\u001b[39m\u001b[38;5;124m\"\u001b[39m\u001b[38;5;124mfrom remote repository using \u001b[39m\u001b[38;5;132;01m{\u001b[39;00mfetch_method_name\u001b[38;5;132;01m}\u001b[39;00m\u001b[38;5;124m - \u001b[39m\u001b[38;5;124m\"\u001b[39m\n\u001b[1;32m   1021\u001b[0m                \u001b[38;5;124mf\u001b[39m\u001b[38;5;124m\"\u001b[39m\u001b[38;5;124mthis may take a couple of minutes the first time.\u001b[39m\u001b[38;5;124m\"\u001b[39m)\n\u001b[1;32m   1023\u001b[0m \u001b[38;5;66;03m#   fetch method input:  model_card, save_to_path, api_key (optional)\u001b[39;00m\n\u001b[1;32m   1024\u001b[0m \u001b[38;5;66;03m#   fetch method must be able to resolve the repo using info in the model card\u001b[39;00m\n\u001b[0;32m-> 1025\u001b[0m success \u001b[38;5;241m=\u001b[39m \u001b[43mfetch\u001b[49m\u001b[43m(\u001b[49m\u001b[43mmodel_card\u001b[49m\u001b[43m,\u001b[49m\u001b[43m \u001b[49m\u001b[43mmodel_location\u001b[49m\u001b[43m,\u001b[49m\u001b[43m \u001b[49m\u001b[43mapi_key\u001b[49m\u001b[38;5;241;43m=\u001b[39;49m\u001b[43mapi_key\u001b[49m\u001b[43m,\u001b[49m\u001b[43m \u001b[49m\u001b[38;5;241;43m*\u001b[39;49m\u001b[38;5;241;43m*\u001b[39;49m\u001b[43mkwargs\u001b[49m\u001b[43m)\u001b[49m\n\u001b[1;32m   1027\u001b[0m \u001b[38;5;28;01mif\u001b[39;00m \u001b[38;5;28misinstance\u001b[39m(success, \u001b[38;5;28mdict\u001b[39m):\n\u001b[1;32m   1028\u001b[0m     \u001b[38;5;66;03m#   write attributes, if any, to the Model instance state\u001b[39;00m\n\u001b[1;32m   1029\u001b[0m     \u001b[38;5;28;01mfor\u001b[39;00m k, v \u001b[38;5;129;01min\u001b[39;00m success\u001b[38;5;241m.\u001b[39mitems():\n",
      "File \u001b[0;32m~/miniconda3/envs/rag/lib/python3.10/site-packages/llmware/models.py:368\u001b[0m, in \u001b[0;36mpull_snapshot_from_hf\u001b[0;34m(model_card, local_model_repo_path, api_key, **kwargs)\u001b[0m\n\u001b[1;32m    365\u001b[0m     snapshot \u001b[38;5;241m=\u001b[39m snapshot_download(repo_name, local_dir\u001b[38;5;241m=\u001b[39mlocal_model_repo_path, token\u001b[38;5;241m=\u001b[39mapi_key,\n\u001b[1;32m    366\u001b[0m                                  local_dir_use_symlinks\u001b[38;5;241m=\u001b[39m\u001b[38;5;28;01mFalse\u001b[39;00m)\n\u001b[1;32m    367\u001b[0m \u001b[38;5;28;01mexcept\u001b[39;00m:\n\u001b[0;32m--> 368\u001b[0m     \u001b[38;5;28;01mraise\u001b[39;00m LLMWareException(message\u001b[38;5;241m=\u001b[39m\u001b[38;5;124mf\u001b[39m\u001b[38;5;124m\"\u001b[39m\u001b[38;5;124mModels - load_model - pull_snapshot_from_hf - \u001b[39m\u001b[38;5;132;01m{\u001b[39;00mrepo_name\u001b[38;5;132;01m}\u001b[39;00m\u001b[38;5;124m - Something has \u001b[39m\u001b[38;5;124m\"\u001b[39m\n\u001b[1;32m    369\u001b[0m                                    \u001b[38;5;124mf\u001b[39m\u001b[38;5;124m\"\u001b[39m\u001b[38;5;124mgone wrong in the download process.   Please try again.\u001b[39m\u001b[38;5;124m\"\u001b[39m)\n\u001b[1;32m    371\u001b[0m files_created \u001b[38;5;241m=\u001b[39m os\u001b[38;5;241m.\u001b[39mlistdir(local_model_repo_path)\n\u001b[1;32m    373\u001b[0m logger\u001b[38;5;241m.\u001b[39mdebug(\u001b[38;5;124mf\u001b[39m\u001b[38;5;124m\"\u001b[39m\u001b[38;5;124mModels - load_model - pull_snapshot_from_hf - downloaded snapshot - \u001b[39m\u001b[38;5;124m\"\u001b[39m\n\u001b[1;32m    374\u001b[0m              \u001b[38;5;124mf\u001b[39m\u001b[38;5;124m\"\u001b[39m\u001b[38;5;124mfiles cached locally - \u001b[39m\u001b[38;5;132;01m{\u001b[39;00mfiles_created\u001b[38;5;132;01m}\u001b[39;00m\u001b[38;5;124m\"\u001b[39m)\n",
      "\u001b[0;31mLLMWareException\u001b[0m: Models - load_model - pull_snapshot_from_hf - llmware/slim-sentiment-tool - Something has gone wrong in the download process.   Please try again."
     ]
    }
   ],
   "source": [
    "# MODEL = f\"cardiffnlp/twitter-roberta-base-sentiment-latest\"\n",
    "text = \"Recommend the best dish in this restraurant.\"\n",
    "\n",
    "agent = LLMfx(verbose=True)\n",
    "agent.load_tool(\"sentiment\")\n",
    "sentiment = agent.sentiment(text)"
   ]
  },
  {
   "cell_type": "code",
   "execution_count": null,
   "metadata": {},
   "outputs": [],
   "source": []
  }
 ],
 "metadata": {
  "kernelspec": {
   "display_name": "rag",
   "language": "python",
   "name": "python3"
  },
  "language_info": {
   "codemirror_mode": {
    "name": "ipython",
    "version": 3
   },
   "file_extension": ".py",
   "mimetype": "text/x-python",
   "name": "python",
   "nbconvert_exporter": "python",
   "pygments_lexer": "ipython3",
   "version": "3.10.14"
  }
 },
 "nbformat": 4,
 "nbformat_minor": 2
}
